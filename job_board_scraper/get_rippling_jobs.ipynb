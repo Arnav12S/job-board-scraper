{
 "cells": [
  {
   "cell_type": "code",
   "execution_count": 1,
   "metadata": {},
   "outputs": [],
   "source": [
    "import time\n",
    "import logging\n",
    "import utils.general as general_util\n",
    "import utils.export as export_util\n",
    "from dotenv import load_dotenv\n",
    "\n",
    "\n",
    "load_dotenv()\n",
    "logging.basicConfig(level=logging.INFO)\n",
    "logger = logging.getLogger(\"logger\")\n",
    "\n",
    "job_board_provider = \"rippling\""
   ]
  },
  {
   "cell_type": "code",
   "execution_count": 1,
   "metadata": {},
   "outputs": [],
   "source": [
    "start = time.time()\n",
    "run_hash = general_util.hash_ids.encode(int(start))\n",
    "\n",
    "board_tokens = general_util.setup_postgres_connection(job_board_provider)\n",
    "for board_token in board_tokens:\n",
    "    logger.info(f\"{board_token}, {time.time() - start}\")\n",
    "    start = time.time()\n",
    "\n",
    "    if not general_util.initial_error_check(board_token, job_board_provider):\n",
    "        jobs_outline_json, source = general_util.job_board_api_factory(\n",
    "            board_token, job_board_provider\n",
    "        )\n",
    "    else:\n",
    "        continue\n",
    "\n",
    "    dfs = general_util.create_dataframes_factory(\n",
    "        job_board_provider, jobs_outline_json, board_token, run_hash, source\n",
    "    )\n",
    "\n",
    "    table_names = export_util.determine_table_names(job_board_provider)\n",
    "\n",
    "    table_pairs_dict = dict(zip(table_names, dfs))\n",
    "\n",
    "    export_util.export_dataframes_to_postgres(table_pairs_dict)"
   ]
  },
  {
   "cell_type": "code",
   "execution_count": null,
   "metadata": {},
   "outputs": [],
   "source": []
  }
 ],
 "metadata": {
  "kernelspec": {
   "display_name": "venv",
   "language": "python",
   "name": "python3"
  },
  "language_info": {
   "codemirror_mode": {
    "name": "ipython",
    "version": 3
   },
   "file_extension": ".py",
   "mimetype": "text/x-python",
   "name": "python",
   "nbconvert_exporter": "python",
   "pygments_lexer": "ipython3",
   "version": "3.11.8"
  }
 },
 "nbformat": 4,
 "nbformat_minor": 2
}
