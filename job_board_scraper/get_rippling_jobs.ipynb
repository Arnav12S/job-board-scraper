{
 "cells": [
  {
   "cell_type": "code",
   "execution_count": 3,
   "metadata": {},
   "outputs": [],
   "source": [
    "import time\n",
    "import logging\n",
    "import sys\n",
    "import utils.general as general_util\n",
    "import utils.export as export_util\n",
    "from dotenv import load_dotenv\n",
    "\n",
    "\n",
    "load_dotenv()\n",
    "logging.basicConfig(level=logging.INFO)\n",
    "logger = logging.getLogger(\"logger\")\n",
    "\n",
    "job_board_provider = sys.argv[1]\n",
    "\n",
    "start = time.time()\n",
    "run_hash = general_util.hash_ids.encode(int(start))\n",
    "\n",
    "board_tokens = general_util.setup_postgres_connection(job_board_provider)\n",
    "for board_token in board_tokens:\n",
    "    logger.info(f\"{board_token}, {time.time() - start}\")\n",
    "    start = time.time()\n",
    "\n",
    "    if not general_util.initial_error_check(board_token, job_board_provider):\n",
    "        jobs_outline_json, source = general_util.job_board_api_factory(\n",
    "            board_token, job_board_provider\n",
    "        )\n",
    "    else:\n",
    "        continue\n",
    "\n",
    "    dfs = general_util.create_dataframes_factory(\n",
    "        job_board_provider, jobs_outline_json, board_token, run_hash, source\n",
    "    )\n",
    "\n",
    "    table_names = export_util.determine_table_names(job_board_provider)\n",
    "\n",
    "    table_pairs_dict = dict(zip(table_names, dfs))\n",
    "\n",
    "    export_util.export_dataframes_to_postgres(table_pairs_dict)"
   ]
  },
  {
   "cell_type": "code",
   "execution_count": 4,
   "metadata": {},
   "outputs": [
    {
     "name": "stderr",
     "output_type": "stream",
     "text": [
      "INFO:logger:rippling, 0.7785921096801758\n"
     ]
    }
   ],
   "source": [
    "start = time.time()\n",
    "run_hash = general_util.hash_ids.encode(int(start))\n",
    "\n",
    "board_tokens = general_util.setup_postgres_connection(job_board_provider)\n",
    "for board_token in board_tokens:\n",
    "    logger.info(f\"{board_token}, {time.time() - start}\")\n",
    "    start = time.time()\n",
    "\n",
    "    if not general_util.initial_error_check(board_token, job_board_provider):\n",
    "        jobs_outline_json, source = general_util.job_board_api_factory(\n",
    "            board_token, job_board_provider\n",
    "        )\n",
    "    else:\n",
    "        continue\n",
    "\n",
    "    dfs = general_util.create_dataframes_factory(\n",
    "        job_board_provider, jobs_outline_json, board_token, run_hash, source\n",
    "    )\n",
    "\n",
    "    table_names = export_util.determine_table_names(job_board_provider)\n",
    "\n",
    "    table_pairs_dict = dict(zip(table_names, dfs))\n",
    "\n",
    "    export_util.export_dataframes_to_postgres(table_pairs_dict)"
   ]
  },
  {
   "cell_type": "code",
   "execution_count": 6,
   "metadata": {},
   "outputs": [
    {
     "data": {
      "text/html": [
       "<div><style>\n",
       ".dataframe > thead > tr > th,\n",
       ".dataframe > tbody > tr > td {\n",
       "  text-align: right;\n",
       "  white-space: pre-wrap;\n",
       "}\n",
       "</style>\n",
       "<small>shape: (223, 5)</small><table border=\"1\" class=\"dataframe\"><thead><tr><th>job_id</th><th>title</th><th>department</th><th>url</th><th>location</th></tr><tr><td>str</td><td>str</td><td>str</td><td>str</td><td>str</td></tr></thead><tbody><tr><td>&quot;c58a93b2-09fe-…</td><td>&quot;Staff Software…</td><td>&quot;Engineering&quot;</td><td>&quot;https://ats.ri…</td><td>&quot;Bangalore, Ind…</td></tr><tr><td>&quot;f0857c69-3610-…</td><td>&quot;Senior Softwar…</td><td>&quot;Engineering&quot;</td><td>&quot;https://ats.ri…</td><td>&quot;Bangalore, Ind…</td></tr><tr><td>&quot;f7ae4b7d-99c5-…</td><td>&quot;Senior Softwar…</td><td>&quot;Engineering&quot;</td><td>&quot;https://ats.ri…</td><td>&quot;New York, NY&quot;</td></tr><tr><td>&quot;403d8f24-ffcd-…</td><td>&quot;Manager, Broke…</td><td>&quot;Sales&quot;</td><td>&quot;https://ats.ri…</td><td>&quot;New York, NY, …</td></tr><tr><td>&quot;2b7bb2ca-05ec-…</td><td>&quot;Senior Softwar…</td><td>&quot;Engineering&quot;</td><td>&quot;https://ats.ri…</td><td>&quot;Bangalore, Ind…</td></tr><tr><td>&quot;7695b619-7349-…</td><td>&quot;Engineering Ma…</td><td>&quot;Engineering&quot;</td><td>&quot;https://ats.ri…</td><td>&quot;San Francisco,…</td></tr><tr><td>&quot;22133ad5-0120-…</td><td>&quot;Staff Platform…</td><td>&quot;Engineering&quot;</td><td>&quot;https://ats.ri…</td><td>&quot;San Francisco,…</td></tr><tr><td>&quot;62aee332-244a-…</td><td>&quot;Product Lead, …</td><td>&quot;Product&quot;</td><td>&quot;https://ats.ri…</td><td>&quot;San Francisco,…</td></tr><tr><td>&quot;c9b0dd60-e7a1-…</td><td>&quot;Staff Software…</td><td>&quot;Engineering&quot;</td><td>&quot;https://ats.ri…</td><td>&quot;San Francisco,…</td></tr><tr><td>&quot;c4f793f0-3e24-…</td><td>&quot;Senior Softwar…</td><td>&quot;Engineering&quot;</td><td>&quot;https://ats.ri…</td><td>&quot;San Francisco,…</td></tr><tr><td>&quot;94f144fa-8bf5-…</td><td>&quot;Senior Program…</td><td>&quot;Marketing&quot;</td><td>&quot;https://ats.ri…</td><td>&quot;San Francisco,…</td></tr><tr><td>&quot;9437c086-39e5-…</td><td>&quot;Account Execut…</td><td>&quot;Sales&quot;</td><td>&quot;https://ats.ri…</td><td>&quot;Austin, TX&quot;</td></tr><tr><td>&hellip;</td><td>&hellip;</td><td>&hellip;</td><td>&hellip;</td><td>&hellip;</td></tr><tr><td>&quot;9d8fd0c2-cb73-…</td><td>&quot;PEO Human Reso…</td><td>&quot;Operations&quot;</td><td>&quot;https://ats.ri…</td><td>&quot;San Francisco,…</td></tr><tr><td>&quot;1bfd3cd1-377c-…</td><td>&quot;Product Lead, …</td><td>&quot;Product&quot;</td><td>&quot;https://ats.ri…</td><td>&quot;San Francisco,…</td></tr><tr><td>&quot;801fdea4-2295-…</td><td>&quot;Senior Full St…</td><td>&quot;Engineering&quot;</td><td>&quot;https://ats.ri…</td><td>&quot;New York, NY&quot;</td></tr><tr><td>&quot;5db93906-0400-…</td><td>&quot;Manager, Finan…</td><td>&quot;Legal &amp; Compli…</td><td>&quot;https://ats.ri…</td><td>&quot;Dublin, Irelan…</td></tr><tr><td>&quot;4109f2b6-7c10-…</td><td>&quot;Technical Acco…</td><td>&quot;Technical Acco…</td><td>&quot;https://ats.ri…</td><td>&quot;Remote (United…</td></tr><tr><td>&quot;30f264b1-393a-…</td><td>&quot;Professional S…</td><td>&quot;Implementation…</td><td>&quot;https://ats.ri…</td><td>&quot;San Francisco,…</td></tr><tr><td>&quot;5e88b34f-7d0c-…</td><td>&quot;Senior Fullsta…</td><td>&quot;Engineering&quot;</td><td>&quot;https://ats.ri…</td><td>&quot;San Francisco,…</td></tr><tr><td>&quot;fd91fa6c-26a1-…</td><td>&quot;Implementation…</td><td>&quot;Implementation…</td><td>&quot;https://ats.ri…</td><td>&quot;Toronto, Canad…</td></tr><tr><td>&quot;e99e0607-f46b-…</td><td>&quot;Account Execut…</td><td>&quot;Sales&quot;</td><td>&quot;https://ats.ri…</td><td>&quot;Toronto, Canad…</td></tr><tr><td>&quot;b89ec625-72c1-…</td><td>&quot;Senior Compens…</td><td>&quot;People &amp; Place…</td><td>&quot;https://ats.ri…</td><td>&quot;San Francisco,…</td></tr><tr><td>&quot;171f4cb1-8f6a-…</td><td>&quot;Manager, Finan…</td><td>&quot;Legal &amp; Compli…</td><td>&quot;https://ats.ri…</td><td>&quot;London, United…</td></tr><tr><td>&quot;ddc5a61e-da44-…</td><td>&quot;Global Payroll…</td><td>&quot;Operations&quot;</td><td>&quot;https://ats.ri…</td><td>&quot;Remote (Costa …</td></tr></tbody></table></div>"
      ],
      "text/plain": [
       "shape: (223, 5)\n",
       "┌───────────────────┬───────────────────┬───────────────────┬───────────────────┬──────────────────┐\n",
       "│ job_id            ┆ title             ┆ department        ┆ url               ┆ location         │\n",
       "│ ---               ┆ ---               ┆ ---               ┆ ---               ┆ ---              │\n",
       "│ str               ┆ str               ┆ str               ┆ str               ┆ str              │\n",
       "╞═══════════════════╪═══════════════════╪═══════════════════╪═══════════════════╪══════════════════╡\n",
       "│ c58a93b2-09fe-494 ┆ Staff Software    ┆ Engineering       ┆ https://ats.rippl ┆ Bangalore, India │\n",
       "│ b-8ee8-e4f8acdc…  ┆ Engineer -        ┆                   ┆ ing.com/ripplin…  ┆                  │\n",
       "│                   ┆ Benefi…           ┆                   ┆                   ┆                  │\n",
       "│ f0857c69-3610-493 ┆ Senior Software   ┆ Engineering       ┆ https://ats.rippl ┆ Bangalore, India │\n",
       "│ 0-ad15-7d58f64d…  ┆ Engineer - Web P… ┆                   ┆ ing.com/ripplin…  ┆                  │\n",
       "│ f7ae4b7d-99c5-43a ┆ Senior Software   ┆ Engineering       ┆ https://ats.rippl ┆ New York, NY     │\n",
       "│ 9-b0bd-2419a0b9…  ┆ Engineer (Full S… ┆                   ┆ ing.com/ripplin…  ┆                  │\n",
       "│ 403d8f24-ffcd-45b ┆ Manager, Broker   ┆ Sales             ┆ https://ats.rippl ┆ New York, NY,    │\n",
       "│ 4-bb6e-990c9afe…  ┆ Channel           ┆                   ┆ ing.com/ripplin…  ┆ Remote (United   │\n",
       "│                   ┆                   ┆                   ┆                   ┆ Sta…             │\n",
       "│ …                 ┆ …                 ┆ …                 ┆ …                 ┆ …                │\n",
       "│ e99e0607-f46b-45d ┆ Account           ┆ Sales             ┆ https://ats.rippl ┆ Toronto, Canada  │\n",
       "│ 0-afe9-f23330a3…  ┆ Executive, SMB -  ┆                   ┆ ing.com/ripplin…  ┆                  │\n",
       "│                   ┆ Canada            ┆                   ┆                   ┆                  │\n",
       "│ b89ec625-72c1-420 ┆ Senior            ┆ People & Places   ┆ https://ats.rippl ┆ San Francisco,   │\n",
       "│ f-b2b4-2dd5c2d9…  ┆ Compensation &    ┆                   ┆ ing.com/ripplin…  ┆ CA, New York, NY │\n",
       "│                   ┆ People Dat…       ┆                   ┆                   ┆                  │\n",
       "│ 171f4cb1-8f6a-4cb ┆ Manager,          ┆ Legal &           ┆ https://ats.rippl ┆ London, United   │\n",
       "│ 5-a7fd-ec04e818…  ┆ Financial Crimes  ┆ Compliance        ┆ ing.com/ripplin…  ┆ Kingdom          │\n",
       "│                   ┆ Compli…           ┆                   ┆                   ┆                  │\n",
       "│ ddc5a61e-da44-40f ┆ Global Payroll    ┆ Operations        ┆ https://ats.rippl ┆ Remote (Costa    │\n",
       "│ 0-9d29-186af48c…  ┆ Operations        ┆                   ┆ ing.com/ripplin…  ┆ Rica)            │\n",
       "│                   ┆ Specia…           ┆                   ┆                   ┆                  │\n",
       "└───────────────────┴───────────────────┴───────────────────┴───────────────────┴──────────────────┘"
      ]
     },
     "execution_count": 6,
     "metadata": {},
     "output_type": "execute_result"
    }
   ],
   "source": [
    "dfs[0]"
   ]
  },
  {
   "cell_type": "code",
   "execution_count": null,
   "metadata": {},
   "outputs": [],
   "source": []
  }
 ],
 "metadata": {
  "kernelspec": {
   "display_name": "venv",
   "language": "python",
   "name": "python3"
  },
  "language_info": {
   "codemirror_mode": {
    "name": "ipython",
    "version": 3
   },
   "file_extension": ".py",
   "mimetype": "text/x-python",
   "name": "python",
   "nbconvert_exporter": "python",
   "pygments_lexer": "ipython3",
   "version": "3.11.8"
  }
 },
 "nbformat": 4,
 "nbformat_minor": 2
}
